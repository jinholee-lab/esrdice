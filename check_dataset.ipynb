{
 "cells": [
  {
   "cell_type": "code",
   "execution_count": 18,
   "id": "e1d50b1e",
   "metadata": {},
   "outputs": [],
   "source": [
    "import numpy as np\n",
    "from main import *\n",
    "from utils import Utility\n",
    "from Fair_Taxi_MDP_Penalty_V2 import Fair_Taxi_MDP_Penalty_V2\n"
   ]
  },
  {
   "cell_type": "code",
   "execution_count": 19,
   "id": "5da566ce",
   "metadata": {},
   "outputs": [],
   "source": [
    "size = 10\n",
    "# loc_coords = [[0,0],[3,2]]\n",
    "# dest_coords = [[0,4],[3,3]]\n",
    "loc_coords = [[0,2],[9,7]]\n",
    "dest_coords = [[0,0],[9,9]]\n",
    "fuel = 40\n",
    "\n",
    "env = Fair_Taxi_MDP_Penalty_V2(\n",
    "    size=size,\n",
    "    loc_coords=loc_coords,\n",
    "    dest_coords=dest_coords,\n",
    "    fuel=fuel,\n",
    "    output_path=None\n",
    ")"
   ]
  },
  {
   "cell_type": "code",
   "execution_count": 20,
   "id": "6b559f11",
   "metadata": {},
   "outputs": [
    {
     "data": {
      "image/png": "[encoded data removed]",
      "text/plain": [
       "<Figure size 640x480 with 1 Axes>"
      ]
     },
     "metadata": {},
     "output_type": "display_data"
    }
   ],
   "source": [
    "# 환경 생성\n",
    "env = Fair_Taxi_MDP_Penalty_V2(\n",
    "    size=size,\n",
    "    loc_coords=loc_coords,\n",
    "    dest_coords=dest_coords,\n",
    "    fuel=fuel,\n",
    "    output_path=None\n",
    ")\n",
    "\n",
    "# 초기 상태를 (5,4)로 세팅\n",
    "state = env.reset(taxi_loc=[5,4])\n",
    "\n",
    "# 렌더링\n",
    "frame = env.render(mode=\"rgb_array\")  # numpy array로 프레임 얻기\n",
    "\n",
    "import matplotlib.pyplot as plt\n",
    "plt.imshow(frame)\n",
    "plt.axis(\"off\")\n",
    "plt.show()\n"
   ]
  },
  {
   "cell_type": "code",
   "execution_count": 21,
   "id": "895bedfe",
   "metadata": {},
   "outputs": [
    {
     "data": {
      "text/plain": [
       "{'states': array([326, 386, 326, ..., 596, 590, 584], dtype=int32),\n",
       " 'actions': array([2, 3, 1, ..., 1, 1, 4], dtype=int32),\n",
       " 'rewards': array([[0., 0.],\n",
       "        [0., 0.],\n",
       "        [0., 0.],\n",
       "        ...,\n",
       "        [0., 0.],\n",
       "        [0., 0.],\n",
       "        [0., 0.]], dtype=float32),\n",
       " 'next_states': array([386, 326, 320, ..., 590, 584, 586], dtype=int32),\n",
       " 'dones': array([False, False, False, ..., False, False,  True]),\n",
       " 'timesteps': array([ 0,  1,  2, ..., 37, 38, 39], dtype=int32),\n",
       " 'Raccs': array([[  0.,   0.],\n",
       "        [  0.,   0.],\n",
       "        [  0.,   0.],\n",
       "        ...,\n",
       "        [  0., 150.],\n",
       "        [  0., 150.],\n",
       "        [  0., 150.]], dtype=float32),\n",
       " 'initial_states': array([326, 326, 326, ..., 326, 326, 326], dtype=int32)}"
      ]
     },
     "execution_count": 21,
     "metadata": {},
     "output_type": "execute_result"
    }
   ],
   "source": [
    "dataset = np.load(\"./data/bus.npy\", allow_pickle=True).item()\n",
    "dataset"
   ]
  },
  {
   "cell_type": "code",
   "execution_count": 22,
   "id": "1ddfb2fd",
   "metadata": {},
   "outputs": [
    {
     "data": {
      "text/plain": [
       "array([326, 386, 326, ..., 596, 590, 584], dtype=int32)"
      ]
     },
     "execution_count": 22,
     "metadata": {},
     "output_type": "execute_result"
    }
   ],
   "source": [
    "dataset['states']"
   ]
  },
  {
   "cell_type": "code",
   "execution_count": 23,
   "id": "0fe59f37",
   "metadata": {},
   "outputs": [
    {
     "name": "stdout",
     "output_type": "stream",
     "text": [
      "states (96000,)\n",
      "actions (96000,)\n",
      "rewards (96000, 2)\n",
      "next_states (96000,)\n",
      "dones (96000,)\n",
      "timesteps (96000,)\n",
      "Raccs (96000, 2)\n",
      "initial_states (96000,)\n"
     ]
    }
   ],
   "source": [
    "for k,v in dataset.items():\n",
    "    print(k, np.array(v).shape)"
   ]
  },
  {
   "cell_type": "code",
   "execution_count": 25,
   "id": "5df543d1",
   "metadata": {},
   "outputs": [
    {
     "data": {
      "text/plain": [
       "6"
      ]
     },
     "execution_count": 25,
     "metadata": {},
     "output_type": "execute_result"
    }
   ],
   "source": [
    "env.action_space.n"
   ]
  },
  {
   "cell_type": "code",
   "execution_count": 26,
   "id": "e80ed28f",
   "metadata": {},
   "outputs": [
    {
     "data": {
      "text/plain": [
       "600"
      ]
     },
     "execution_count": 26,
     "metadata": {},
     "output_type": "execute_result"
    }
   ],
   "source": [
    "env.observation_space.n"
   ]
  },
  {
   "cell_type": "code",
   "execution_count": 27,
   "id": "88d3b126",
   "metadata": {},
   "outputs": [],
   "source": [
    "import numpy as np\n",
    "\n",
    "def build_from_offline_data(dataset, S, A, H, I, eps=1e-8):\n",
    "    states = dataset[\"states\"]\n",
    "    actions = dataset[\"actions\"]\n",
    "    rewards = dataset[\"rewards\"]\n",
    "    next_states = dataset[\"next_states\"]\n",
    "    timesteps = dataset[\"timesteps\"]\n",
    "    initial_states = dataset[\"initial_states\"]\n",
    "\n",
    "    # 1. Initial distribution p0\n",
    "    p0 = np.bincount(initial_states, minlength=S).astype(np.float64)\n",
    "    p0 /= p0.sum()\n",
    "\n",
    "    # 2. Transition probability T_base[s', s, a]\n",
    "    T_base = np.zeros((S, S, A), dtype=np.float64)\n",
    "    for s, a, s_next in zip(states, actions, next_states):\n",
    "        T_base[s_next, s, a] += 1\n",
    "    T_base += eps\n",
    "    T_base /= T_base.sum(axis=0, keepdims=True)\n",
    "\n",
    "    # 3. Dataset occupancy d_D[s, a, t]\n",
    "    d_D = np.zeros((S, A, H), dtype=np.float64)\n",
    "    for s, a, t in zip(states, actions, timesteps):\n",
    "        d_D[s, a, t] += 1\n",
    "    # normalize each timestep distribution\n",
    "    for t in range(H):\n",
    "        total_t = d_D[:, :, t].sum()\n",
    "        if total_t > 0:\n",
    "            d_D[:, :, t] /= total_t\n",
    "    d_D = np.clip(d_D, eps, None)\n",
    "\n",
    "    # 4. Reward vectors r_i(s,a)\n",
    "    r_list = []\n",
    "    for i in range(I):\n",
    "        r_i = np.zeros((S, A), dtype=np.float64)\n",
    "        counts = np.zeros((S, A), dtype=np.float64)\n",
    "        for s, a, r in zip(states, actions, rewards[:, i]):\n",
    "            r_i[s, a] += r\n",
    "            counts[s, a] += 1\n",
    "        with np.errstate(divide='ignore', invalid='ignore'):\n",
    "            r_i = np.divide(r_i, counts, out=np.zeros_like(r_i), where=counts > 0)\n",
    "        r_list.append(r_i)\n",
    "\n",
    "    return p0, T_base, d_D, r_list\n"
   ]
  },
  {
   "cell_type": "code",
   "execution_count": 29,
   "id": "97e7d467",
   "metadata": {},
   "outputs": [],
   "source": [
    "dataset = np.load(\"./data/bus.npy\", allow_pickle=True).item()\n",
    "S = env.observation_space.n       # 600\n",
    "A = env.action_space.n            # 6\n",
    "H = 40\n",
    "I = 2\n",
    "\n",
    "p0, T_base, d_D, r_list = build_from_offline_data(dataset, S, A, H, I)\n",
    "\n",
    "# result = solve_cp(\n",
    "#     p0, T_base, d_D, r_list,\n",
    "#     alpha=0.1, reg_type=\"chi2\", util_type=\"piecewise_lower\"\n",
    "# )\n",
    "# print(result[\"z_values\"], result[\"piecewise_util_post\"])\n"
   ]
  },
  {
   "cell_type": "code",
   "execution_count": 45,
   "id": "3b1cc3d9",
   "metadata": {},
   "outputs": [
    {
     "data": {
      "text/plain": [
       "np.int64(326)"
      ]
     },
     "execution_count": 45,
     "metadata": {},
     "output_type": "execute_result"
    }
   ],
   "source": [
    "env.reset(taxi_loc = [5,4])"
   ]
  },
  {
   "cell_type": "code",
   "execution_count": 37,
   "id": "551c3fcb",
   "metadata": {},
   "outputs": [
    {
     "data": {
      "text/plain": [
       "(600, 600, 6)"
      ]
     },
     "execution_count": 37,
     "metadata": {},
     "output_type": "execute_result"
    }
   ],
   "source": [
    "T_base.shape"
   ]
  },
  {
   "cell_type": "code",
   "execution_count": 42,
   "id": "e6f37bbc",
   "metadata": {},
   "outputs": [
    {
     "data": {
      "text/plain": [
       "(600, 6, 40)"
      ]
     },
     "execution_count": 42,
     "metadata": {},
     "output_type": "execute_result"
    }
   ],
   "source": [
    "d_D.shape"
   ]
  },
  {
   "cell_type": "code",
   "execution_count": 40,
   "id": "c205c2fd",
   "metadata": {},
   "outputs": [
    {
     "data": {
      "text/plain": [
       "[array([[  0.,   0.,   0.,   0.,   0.,   0.],\n",
       "        [  0.,   0.,   0.,   0.,   0.,   0.],\n",
       "        [  0.,   0.,   0.,   0., -10., -10.],\n",
       "        ...,\n",
       "        [  0.,   0.,   0.,   0.,   0.,   0.],\n",
       "        [  0.,   0.,   0.,   0., -10.,   0.],\n",
       "        [  0.,   0.,   0.,   0.,   0.,   0.]]),\n",
       " array([[  0.,   0.,   0.,   0.,   0.,   0.],\n",
       "        [  0.,   0.,   0.,   0.,   0.,   0.],\n",
       "        [  0.,   0.,   0.,   0., -10., -10.],\n",
       "        ...,\n",
       "        [  0.,   0.,   0.,   0.,   0.,   0.],\n",
       "        [  0.,   0.,   0.,   0., -10.,  30.],\n",
       "        [  0.,   0.,   0.,   0.,   0.,   0.]])]"
      ]
     },
     "execution_count": 40,
     "metadata": {},
     "output_type": "execute_result"
    }
   ],
   "source": [
    "r_list"
   ]
  },
  {
   "cell_type": "code",
   "execution_count": 43,
   "id": "06bae044",
   "metadata": {},
   "outputs": [
    {
     "data": {
      "text/plain": [
       "array([0., 0., 0., 0., 0., 0., 0., 0., 0., 0., 0., 0., 0., 0., 0., 0., 0.,\n",
       "       0., 0., 0., 0., 0., 0., 0., 0., 0., 0., 0., 0., 0., 0., 0., 0., 0.,\n",
       "       0., 0., 0., 0., 0., 0., 0., 0., 0., 0., 0., 0., 0., 0., 0., 0., 0.,\n",
       "       0., 0., 0., 0., 0., 0., 0., 0., 0., 0., 0., 0., 0., 0., 0., 0., 0.,\n",
       "       0., 0., 0., 0., 0., 0., 0., 0., 0., 0., 0., 0., 0., 0., 0., 0., 0.,\n",
       "       0., 0., 0., 0., 0., 0., 0., 0., 0., 0., 0., 0., 0., 0., 0., 0., 0.,\n",
       "       0., 0., 0., 0., 0., 0., 0., 0., 0., 0., 0., 0., 0., 0., 0., 0., 0.,\n",
       "       0., 0., 0., 0., 0., 0., 0., 0., 0., 0., 0., 0., 0., 0., 0., 0., 0.,\n",
       "       0., 0., 0., 0., 0., 0., 0., 0., 0., 0., 0., 0., 0., 0., 0., 0., 0.,\n",
       "       0., 0., 0., 0., 0., 0., 0., 0., 0., 0., 0., 0., 0., 0., 0., 0., 0.,\n",
       "       0., 0., 0., 0., 0., 0., 0., 0., 0., 0., 0., 0., 0., 0., 0., 0., 0.,\n",
       "       0., 0., 0., 0., 0., 0., 0., 0., 0., 0., 0., 0., 0., 0., 0., 0., 0.,\n",
       "       0., 0., 0., 0., 0., 0., 0., 0., 0., 0., 0., 0., 0., 0., 0., 0., 0.,\n",
       "       0., 0., 0., 0., 0., 0., 0., 0., 0., 0., 0., 0., 0., 0., 0., 0., 0.,\n",
       "       0., 0., 0., 0., 0., 0., 0., 0., 0., 0., 0., 0., 0., 0., 0., 0., 0.,\n",
       "       0., 0., 0., 0., 0., 0., 0., 0., 0., 0., 0., 0., 0., 0., 0., 0., 0.,\n",
       "       0., 0., 0., 0., 0., 0., 0., 0., 0., 0., 0., 0., 0., 0., 0., 0., 0.,\n",
       "       0., 0., 0., 0., 0., 0., 0., 0., 0., 0., 0., 0., 0., 0., 0., 0., 0.,\n",
       "       0., 0., 0., 0., 0., 0., 0., 0., 0., 0., 0., 0., 0., 0., 0., 0., 0.,\n",
       "       0., 0., 0., 1., 0., 0., 0., 0., 0., 0., 0., 0., 0., 0., 0., 0., 0.,\n",
       "       0., 0., 0., 0., 0., 0., 0., 0., 0., 0., 0., 0., 0., 0., 0., 0., 0.,\n",
       "       0., 0., 0., 0., 0., 0., 0., 0., 0., 0., 0., 0., 0., 0., 0., 0., 0.,\n",
       "       0., 0., 0., 0., 0., 0., 0., 0., 0., 0., 0., 0., 0., 0., 0., 0., 0.,\n",
       "       0., 0., 0., 0., 0., 0., 0., 0., 0., 0., 0., 0., 0., 0., 0., 0., 0.,\n",
       "       0., 0., 0., 0., 0., 0., 0., 0., 0., 0., 0., 0., 0., 0., 0., 0., 0.,\n",
       "       0., 0., 0., 0., 0., 0., 0., 0., 0., 0., 0., 0., 0., 0., 0., 0., 0.,\n",
       "       0., 0., 0., 0., 0., 0., 0., 0., 0., 0., 0., 0., 0., 0., 0., 0., 0.,\n",
       "       0., 0., 0., 0., 0., 0., 0., 0., 0., 0., 0., 0., 0., 0., 0., 0., 0.,\n",
       "       0., 0., 0., 0., 0., 0., 0., 0., 0., 0., 0., 0., 0., 0., 0., 0., 0.,\n",
       "       0., 0., 0., 0., 0., 0., 0., 0., 0., 0., 0., 0., 0., 0., 0., 0., 0.,\n",
       "       0., 0., 0., 0., 0., 0., 0., 0., 0., 0., 0., 0., 0., 0., 0., 0., 0.,\n",
       "       0., 0., 0., 0., 0., 0., 0., 0., 0., 0., 0., 0., 0., 0., 0., 0., 0.,\n",
       "       0., 0., 0., 0., 0., 0., 0., 0., 0., 0., 0., 0., 0., 0., 0., 0., 0.,\n",
       "       0., 0., 0., 0., 0., 0., 0., 0., 0., 0., 0., 0., 0., 0., 0., 0., 0.,\n",
       "       0., 0., 0., 0., 0., 0., 0., 0., 0., 0., 0., 0., 0., 0., 0., 0., 0.,\n",
       "       0., 0., 0., 0., 0.])"
      ]
     },
     "execution_count": 43,
     "metadata": {},
     "output_type": "execute_result"
    }
   ],
   "source": [
    "p0"
   ]
  },
  {
   "cell_type": "code",
   "execution_count": 5,
   "id": "2d7b7cdb",
   "metadata": {},
   "outputs": [],
   "source": [
    "# ---- Load dataset ----\n",
    "dataset = np.load(\"./data/bus.npy\", allow_pickle=True).item()\n",
    "\n",
    "# ---- Preprocess timesteps ----\n",
    "dataset = preprocess_timesteps(dataset)\n",
    "\n",
    "# ---- Preprocess rewards ----\n",
    "dataset, norm_stats = preprocess_rewards(dataset, method='linear')\n",
    "\n",
    "# ---- Preprocess Raccs ----\n",
    "dataset = preprocess_Raccs(dataset, horizon=fuel)\n",
    "\n",
    "dataset = preprocess_states(dataset, env, one_hot_pass_idx=True, concat_raccs=True)\n",
    "\n",
    "# ---- Preprocess scalarization ----\n",
    "utility = Utility(kind='piecewise_log', weights=None, shift=0.0)\n",
    "dataset = preprocess_scalarization(dataset, utility)\n",
    "dataset['rewards'] = dataset['scalarized_rewards']"
   ]
  },
  {
   "cell_type": "code",
   "execution_count": 6,
   "id": "7a7ee62f",
   "metadata": {},
   "outputs": [
    {
     "data": {
      "text/plain": [
       "{'states': array([[5., 4., 0., ..., 1., 0., 0.],\n",
       "        [6., 4., 0., ..., 1., 0., 0.],\n",
       "        [5., 4., 0., ..., 1., 0., 0.],\n",
       "        ...,\n",
       "        [9., 9., 0., ..., 1., 0., 5.],\n",
       "        [9., 8., 0., ..., 1., 0., 5.],\n",
       "        [9., 7., 0., ..., 1., 0., 5.]]),\n",
       " 'actions': array([2, 3, 1, ..., 1, 1, 4], dtype=int32),\n",
       " 'rewards': array([[0.],\n",
       "        [0.],\n",
       "        [0.],\n",
       "        ...,\n",
       "        [0.],\n",
       "        [0.],\n",
       "        [0.]], dtype=float32),\n",
       " 'next_states': array([[6., 4., 0., ..., 1., 0., 0.],\n",
       "        [5., 4., 0., ..., 1., 0., 0.],\n",
       "        [5., 3., 0., ..., 1., 0., 0.],\n",
       "        ...,\n",
       "        [9., 8., 0., ..., 1., 0., 5.],\n",
       "        [9., 7., 0., ..., 1., 0., 5.],\n",
       "        [9., 7., 1., ..., 0., 0., 5.]]),\n",
       " 'dones': array([False, False, False, ..., False, False,  True]),\n",
       " 'timesteps': array([ 0,  1,  2, ..., 37, 38, 39], dtype=int32),\n",
       " 'Raccs': array([[0., 0.],\n",
       "        [0., 0.],\n",
       "        [0., 0.],\n",
       "        ...,\n",
       "        [0., 5.],\n",
       "        [0., 5.],\n",
       "        [0., 5.]], dtype=float32),\n",
       " 'initial_states': array([[5., 4., 0., ..., 1., 0., 0.],\n",
       "        [5., 4., 0., ..., 1., 0., 0.],\n",
       "        [5., 4., 0., ..., 1., 0., 0.],\n",
       "        ...,\n",
       "        [5., 4., 0., ..., 1., 0., 0.],\n",
       "        [5., 4., 0., ..., 1., 0., 0.],\n",
       "        [5., 4., 0., ..., 1., 0., 0.]]),\n",
       " 'next_timesteps': array([ 1,  2,  3, ..., 38, 39, 40]),\n",
       " 'next_Raccs': array([[0., 0.],\n",
       "        [0., 0.],\n",
       "        [0., 0.],\n",
       "        ...,\n",
       "        [0., 5.],\n",
       "        [0., 5.],\n",
       "        [0., 5.]], dtype=float32),\n",
       " 'scalarized_rewards': array([[0.],\n",
       "        [0.],\n",
       "        [0.],\n",
       "        ...,\n",
       "        [0.],\n",
       "        [0.],\n",
       "        [0.]], dtype=float32)}"
      ]
     },
     "execution_count": 6,
     "metadata": {},
     "output_type": "execute_result"
    }
   ],
   "source": [
    "dataset"
   ]
  },
  {
   "cell_type": "code",
   "execution_count": 7,
   "id": "bcc306ff",
   "metadata": {},
   "outputs": [
    {
     "name": "stdout",
     "output_type": "stream",
     "text": [
      "states (96000, 8)\n",
      "actions (96000,)\n",
      "rewards (96000, 1)\n",
      "next_states (96000, 8)\n",
      "dones (96000,)\n",
      "timesteps (96000,)\n",
      "Raccs (96000, 2)\n",
      "initial_states (96000, 8)\n",
      "next_timesteps (96000,)\n",
      "next_Raccs (96000, 2)\n",
      "scalarized_rewards (96000, 1)\n"
     ]
    }
   ],
   "source": [
    "for k, v in dataset.items():\n",
    "    print(k, v.shape)"
   ]
  },
  {
   "cell_type": "code",
   "execution_count": 8,
   "id": "0203667f",
   "metadata": {},
   "outputs": [
    {
     "data": {
      "text/plain": [
       "array([[ 5.        ,  4.        ,  0.        ,  0.        ,  0.        ,\n",
       "         1.        ,  0.        ,  0.        ],\n",
       "       [ 6.        ,  4.        ,  0.        ,  0.        ,  0.        ,\n",
       "         1.        ,  0.        ,  0.        ],\n",
       "       [ 5.        ,  4.        ,  0.        ,  0.        ,  0.        ,\n",
       "         1.        ,  0.        ,  0.        ],\n",
       "       [ 5.        ,  3.        ,  0.        ,  0.        ,  0.        ,\n",
       "         1.        ,  0.        ,  0.        ],\n",
       "       [ 4.        ,  3.        ,  0.        ,  0.        ,  0.        ,\n",
       "         1.        ,  0.        ,  0.        ],\n",
       "       [ 3.        ,  3.        ,  0.        ,  0.        ,  0.        ,\n",
       "         1.        ,  0.        ,  0.        ],\n",
       "       [ 2.        ,  3.        ,  0.        ,  0.        ,  0.        ,\n",
       "         1.        ,  0.        ,  0.        ],\n",
       "       [ 1.        ,  3.        ,  0.        ,  0.        ,  0.        ,\n",
       "         1.        ,  0.        ,  0.        ],\n",
       "       [ 0.        ,  3.        ,  0.        ,  0.        ,  0.        ,\n",
       "         1.        ,  0.        ,  0.        ],\n",
       "       [ 0.        ,  2.        ,  0.        ,  0.        ,  0.        ,\n",
       "         1.        ,  0.        ,  0.        ],\n",
       "       [ 0.        ,  2.        ,  1.        ,  1.        ,  0.        ,\n",
       "         0.        ,  0.        ,  0.        ],\n",
       "       [ 0.        ,  1.        ,  1.        ,  1.        ,  0.        ,\n",
       "         0.        ,  0.        ,  0.        ],\n",
       "       [ 0.        ,  0.        ,  1.        ,  1.        ,  0.        ,\n",
       "         0.        ,  0.        ,  0.        ],\n",
       "       [ 0.        ,  0.        ,  0.        ,  0.        ,  0.        ,\n",
       "         1.        ,  1.        ,  0.        ],\n",
       "       [ 0.        ,  0.        ,  0.        ,  0.        ,  0.        ,\n",
       "         1.        ,  0.66666663, -0.33333334],\n",
       "       [ 0.        ,  1.        ,  0.        ,  0.        ,  0.        ,\n",
       "         1.        ,  0.66666663, -0.33333334],\n",
       "       [ 0.        ,  2.        ,  0.        ,  0.        ,  0.        ,\n",
       "         1.        ,  0.66666663, -0.33333334],\n",
       "       [ 0.        ,  2.        ,  1.        ,  1.        ,  0.        ,\n",
       "         0.        ,  0.66666663, -0.33333334],\n",
       "       [ 0.        ,  1.        ,  1.        ,  1.        ,  0.        ,\n",
       "         0.        ,  0.66666663, -0.33333334],\n",
       "       [ 0.        ,  0.        ,  1.        ,  1.        ,  0.        ,\n",
       "         0.        ,  0.66666663, -0.33333334],\n",
       "       [ 0.        ,  0.        ,  0.        ,  0.        ,  0.        ,\n",
       "         1.        ,  1.66666663, -0.33333334],\n",
       "       [ 0.        ,  1.        ,  0.        ,  0.        ,  0.        ,\n",
       "         1.        ,  1.66666663, -0.33333334],\n",
       "       [ 0.        ,  2.        ,  0.        ,  0.        ,  0.        ,\n",
       "         1.        ,  1.66666663, -0.33333334],\n",
       "       [ 0.        ,  2.        ,  1.        ,  1.        ,  0.        ,\n",
       "         0.        ,  1.66666663, -0.33333334],\n",
       "       [ 0.        ,  1.        ,  1.        ,  1.        ,  0.        ,\n",
       "         0.        ,  1.66666663, -0.33333334],\n",
       "       [ 0.        ,  0.        ,  1.        ,  1.        ,  0.        ,\n",
       "         0.        ,  1.66666663, -0.33333334],\n",
       "       [ 0.        ,  0.        ,  0.        ,  0.        ,  0.        ,\n",
       "         1.        ,  2.66666651, -0.33333334],\n",
       "       [ 0.        ,  1.        ,  0.        ,  0.        ,  0.        ,\n",
       "         1.        ,  2.66666651, -0.33333334],\n",
       "       [ 0.        ,  2.        ,  0.        ,  0.        ,  0.        ,\n",
       "         1.        ,  2.66666651, -0.33333334],\n",
       "       [ 0.        ,  2.        ,  1.        ,  1.        ,  0.        ,\n",
       "         0.        ,  2.66666651, -0.33333334],\n",
       "       [ 0.        ,  1.        ,  1.        ,  1.        ,  0.        ,\n",
       "         0.        ,  2.66666651, -0.33333334],\n",
       "       [ 0.        ,  0.        ,  1.        ,  1.        ,  0.        ,\n",
       "         0.        ,  2.66666651, -0.33333334],\n",
       "       [ 0.        ,  0.        ,  0.        ,  0.        ,  0.        ,\n",
       "         1.        ,  3.66666651, -0.33333334],\n",
       "       [ 0.        ,  1.        ,  0.        ,  0.        ,  0.        ,\n",
       "         1.        ,  3.66666651, -0.33333334],\n",
       "       [ 0.        ,  2.        ,  0.        ,  0.        ,  0.        ,\n",
       "         1.        ,  3.66666651, -0.33333334],\n",
       "       [ 0.        ,  2.        ,  1.        ,  1.        ,  0.        ,\n",
       "         0.        ,  3.66666651, -0.33333334],\n",
       "       [ 0.        ,  1.        ,  1.        ,  1.        ,  0.        ,\n",
       "         0.        ,  3.66666651, -0.33333334],\n",
       "       [ 0.        ,  0.        ,  1.        ,  1.        ,  0.        ,\n",
       "         0.        ,  3.66666651, -0.33333334],\n",
       "       [ 0.        ,  0.        ,  0.        ,  0.        ,  0.        ,\n",
       "         1.        ,  4.66666651, -0.33333334],\n",
       "       [ 0.        ,  1.        ,  0.        ,  0.        ,  0.        ,\n",
       "         1.        ,  4.66666651, -0.33333334],\n",
       "       [ 5.        ,  4.        ,  0.        ,  0.        ,  0.        ,\n",
       "         1.        ,  0.        ,  0.        ]])"
      ]
     },
     "execution_count": 8,
     "metadata": {},
     "output_type": "execute_result"
    }
   ],
   "source": [
    "dataset['states'][:41]"
   ]
  },
  {
   "cell_type": "code",
   "execution_count": 9,
   "id": "fa9f174e",
   "metadata": {},
   "outputs": [
    {
     "data": {
      "text/plain": [
       "(96000, 1)"
      ]
     },
     "execution_count": 9,
     "metadata": {},
     "output_type": "execute_result"
    }
   ],
   "source": [
    "dataset['rewards'].shape"
   ]
  },
  {
   "cell_type": "code",
   "execution_count": 10,
   "id": "e4c1c9b1",
   "metadata": {},
   "outputs": [
    {
     "name": "stdout",
     "output_type": "stream",
     "text": [
      "num_episodes: 2400\n",
      "states (2400, 40, 8)\n",
      "actions (2400, 40)\n",
      "rewards (2400, 40, 1)\n",
      "next_states (2400, 40, 8)\n",
      "dones (2400, 40)\n",
      "timesteps (2400, 40)\n",
      "Raccs (2400, 40, 2)\n",
      "initial_states (2400, 40, 8)\n",
      "next_timesteps (2400, 40)\n",
      "next_Raccs (2400, 40, 2)\n"
     ]
    }
   ],
   "source": [
    "def to_episode_arrays_fixed_horizon(dataset, horizon=100):\n",
    "    num_steps = dataset['states'].shape[0]\n",
    "    num_episodes = num_steps // horizon\n",
    "    print(\"num_episodes:\", num_episodes)\n",
    "\n",
    "    def reshape(arr, extra_dims=None):\n",
    "        if extra_dims is None:\n",
    "            arr = arr.reshape(num_episodes, horizon)\n",
    "        else:\n",
    "            arr = arr.reshape(num_episodes, horizon, *extra_dims)\n",
    "        return arr\n",
    "\n",
    "    out = {\n",
    "        'states': reshape(dataset['states'], (dataset['states'].shape[1],)),        # (1000, 100, 8)\n",
    "        'actions': reshape(dataset['actions']),                                    # (1000, 100)\n",
    "        'rewards': reshape(dataset['rewards'], (1,)),                              # (1000, 100, 1)\n",
    "        'next_states': reshape(dataset['next_states'], (dataset['next_states'].shape[1],)),  # (1000, 100, 8)\n",
    "        'dones': reshape(dataset['dones']),                                        # (1000, 100)\n",
    "        'timesteps': reshape(dataset['timesteps']),                                # (1000, 100)\n",
    "        'Raccs': reshape(dataset['Raccs'], (dataset['Raccs'].shape[1],)),          # (1000, 100, 2)\n",
    "        'initial_states': reshape(dataset['initial_states'], (dataset['initial_states'].shape[1],)),  # (1000, 100, 8)\n",
    "        'next_timesteps': reshape(dataset['next_timesteps']),                      # (1000, 100)\n",
    "        'next_Raccs': reshape(dataset['next_Raccs'], (dataset['next_Raccs'].shape[1],)),  # (1000, 100, 2)\n",
    "    }\n",
    "\n",
    "    return out\n",
    "\n",
    "episodes_data = to_episode_arrays_fixed_horizon(dataset, horizon=40)\n",
    "\n",
    "for k, v in episodes_data.items():\n",
    "    print(k, v.shape)\n"
   ]
  },
  {
   "cell_type": "code",
   "execution_count": 11,
   "id": "33fc6d16",
   "metadata": {},
   "outputs": [
    {
     "name": "stdout",
     "output_type": "stream",
     "text": [
      "Best episode index: 596\n",
      "Total reward: 3.6931486\n",
      "Raccs shape: (40, 2)\n",
      "[[0. 0.]\n",
      " [0. 0.]\n",
      " [0. 0.]\n",
      " [0. 0.]\n",
      " [0. 0.]\n",
      " [0. 0.]\n",
      " [0. 0.]\n",
      " [0. 0.]\n",
      " [0. 0.]\n",
      " [0. 0.]\n",
      " [0. 0.]\n",
      " [0. 1.]\n",
      " [0. 1.]\n",
      " [0. 1.]\n",
      " [0. 1.]\n",
      " [0. 1.]\n",
      " [0. 1.]\n",
      " [0. 1.]\n",
      " [0. 1.]\n",
      " [0. 1.]\n",
      " [0. 1.]\n",
      " [0. 1.]\n",
      " [0. 1.]\n",
      " [0. 1.]\n",
      " [0. 1.]\n",
      " [0. 1.]\n",
      " [0. 1.]\n",
      " [0. 1.]\n",
      " [0. 1.]\n",
      " [0. 1.]\n",
      " [0. 1.]\n",
      " [0. 1.]\n",
      " [0. 1.]\n",
      " [1. 1.]\n",
      " [1. 1.]\n",
      " [1. 1.]\n",
      " [1. 1.]\n",
      " [1. 1.]\n",
      " [1. 1.]\n",
      " [1. 1.]]\n"
     ]
    }
   ],
   "source": [
    "import numpy as np\n",
    "\n",
    "# 에피소드별 reward 합계 구하기\n",
    "episode_rewards = episodes_data['rewards'].sum(axis=(1, 2))  # (num_episodes,)\n",
    "\n",
    "# 보상이 가장 큰 episode index\n",
    "best_ep_idx = np.argmax(episode_rewards)\n",
    "print(\"Best episode index:\", best_ep_idx)\n",
    "print(\"Total reward:\", episode_rewards[best_ep_idx])\n",
    "\n",
    "# 해당 episode의 Raccs\n",
    "best_ep_Raccs = episodes_data['Raccs'][best_ep_idx]  # (horizon, 2)\n",
    "print(\"Raccs shape:\", best_ep_Raccs.shape)\n",
    "print(best_ep_Raccs)\n"
   ]
  },
  {
   "cell_type": "code",
   "execution_count": 12,
   "id": "ec180a70",
   "metadata": {},
   "outputs": [
    {
     "name": "stdout",
     "output_type": "stream",
     "text": [
      "Best episode index (by final Raccs sum): 2\n",
      "Final Raccs: [5. 0.]\n",
      "Best episode Raccs shape: (40, 2)\n",
      "[[0. 0.]\n",
      " [0. 0.]\n",
      " [0. 0.]\n",
      " [0. 0.]\n",
      " [0. 0.]\n",
      " [0. 0.]\n",
      " [0. 0.]\n",
      " [0. 0.]\n",
      " [0. 0.]\n",
      " [0. 0.]\n",
      " [0. 0.]\n",
      " [0. 0.]\n",
      " [0. 0.]\n",
      " [1. 0.]\n",
      " [1. 0.]\n",
      " [1. 0.]\n",
      " [1. 0.]\n",
      " [1. 0.]\n",
      " [1. 0.]\n",
      " [2. 0.]\n",
      " [2. 0.]\n",
      " [2. 0.]\n",
      " [2. 0.]\n",
      " [2. 0.]\n",
      " [2. 0.]\n",
      " [3. 0.]\n",
      " [3. 0.]\n",
      " [3. 0.]\n",
      " [3. 0.]\n",
      " [3. 0.]\n",
      " [3. 0.]\n",
      " [4. 0.]\n",
      " [4. 0.]\n",
      " [4. 0.]\n",
      " [4. 0.]\n",
      " [4. 0.]\n",
      " [4. 0.]\n",
      " [5. 0.]\n",
      " [5. 0.]\n",
      " [5. 0.]]\n"
     ]
    }
   ],
   "source": [
    "import numpy as np\n",
    "\n",
    "# 마지막 타임스텝의 Raccs (num_episodes, 2)\n",
    "last_Raccs = episodes_data['Raccs'][:, -1, :]\n",
    "\n",
    "# 여기서 기준을 어떻게 정할지? (예: 첫 번째 축, 두 번째 축, 혹은 합계)\n",
    "# 보통 합계 기준으로 많이 씀\n",
    "last_Raccs_sum = last_Raccs.sum(axis=1)\n",
    "\n",
    "# 가장 큰 episode 찾기\n",
    "best_ep_idx = np.argmax(last_Raccs_sum)\n",
    "print(\"Best episode index (by final Raccs sum):\", best_ep_idx)\n",
    "print(\"Final Raccs:\", last_Raccs[best_ep_idx])\n",
    "\n",
    "# 그 에피소드의 전체 Raccs trajectory 확인\n",
    "best_ep_Raccs = episodes_data['Raccs'][best_ep_idx]\n",
    "print(\"Best episode Raccs shape:\", best_ep_Raccs.shape)\n",
    "print(best_ep_Raccs)\n"
   ]
  },
  {
   "cell_type": "code",
   "execution_count": 13,
   "id": "8628f68c",
   "metadata": {},
   "outputs": [
    {
     "data": {
      "image/png": "[encoded data removed]",
      "text/plain": [
       "<Figure size 600x600 with 1 Axes>"
      ]
     },
     "metadata": {},
     "output_type": "display_data"
    }
   ],
   "source": [
    "import matplotlib.pyplot as plt\n",
    "\n",
    "# 마지막 타임스텝의 Raccs (num_episodes, 2)\n",
    "last_Raccs = episodes_data['Raccs'][:, -1, :]\n",
    "\n",
    "# 산점도 플롯\n",
    "plt.figure(figsize=(6,6))\n",
    "plt.scatter(last_Raccs[:,0], last_Raccs[:,1], alpha=0.6)\n",
    "plt.xlabel(\"Racc[0] at final timestep\")\n",
    "plt.ylabel(\"Racc[1] at final timestep\")\n",
    "plt.title(\"Final timestep Raccs across episodes\")\n",
    "plt.grid(True)\n",
    "plt.show()\n"
   ]
  },
  {
   "cell_type": "code",
   "execution_count": 14,
   "id": "2a7757ea",
   "metadata": {},
   "outputs": [
    {
     "data": {
      "image/png": "[encoded data removed]",
      "text/plain": [
       "<Figure size 600x600 with 2 Axes>"
      ]
     },
     "metadata": {},
     "output_type": "display_data"
    }
   ],
   "source": [
    "# 에피소드별 reward 합계\n",
    "episode_rewards = episodes_data['rewards'].sum(axis=(1, 2))\n",
    "\n",
    "plt.figure(figsize=(6,6))\n",
    "sc = plt.scatter(\n",
    "    last_Raccs[:,0], last_Raccs[:,1],\n",
    "    c=episode_rewards, cmap='viridis', alpha=0.7\n",
    ")\n",
    "plt.xlabel(\"Racc[0] at final timestep\")\n",
    "plt.ylabel(\"Racc[1] at final timestep\")\n",
    "plt.title(\"Final timestep Raccs colored by episode rewards\")\n",
    "plt.colorbar(sc, label=\"Total Episode Reward\")\n",
    "plt.grid(True)\n",
    "plt.show()\n"
   ]
  },
  {
   "cell_type": "code",
   "execution_count": 15,
   "id": "6293866d",
   "metadata": {},
   "outputs": [
    {
     "data": {
      "text/plain": [
       "(np.float32(-2.1111126),\n",
       " np.float32(2.8333337),\n",
       " np.float32(0.055052184),\n",
       " np.float32(0.33470663))"
      ]
     },
     "execution_count": 15,
     "metadata": {},
     "output_type": "execute_result"
    }
   ],
   "source": [
    "dataset['rewards'].min(), dataset['rewards'].max(), dataset['rewards'].mean(), dataset['rewards'].std()"
   ]
  },
  {
   "cell_type": "code",
   "execution_count": null,
   "id": "d32a95f7",
   "metadata": {},
   "outputs": [],
   "source": []
  }
 ],
 "metadata": {
  "kernelspec": {
   "display_name": "esrdice",
   "language": "python",
   "name": "python3"
  },
  "language_info": {
   "codemirror_mode": {
    "name": "ipython",
    "version": 3
   },
   "file_extension": ".py",
   "mimetype": "text/x-python",
   "name": "python",
   "nbconvert_exporter": "python",
   "pygments_lexer": "ipython3",
   "version": "3.9.23"
  }
 },
 "nbformat": 4,
 "nbformat_minor": 5
}
